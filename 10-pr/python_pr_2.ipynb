{
 "cells": [
  {
   "cell_type": "code",
   "execution_count": 1,
   "id": "fd4e3ab1-169a-44be-bd09-5493489ac87f",
   "metadata": {
    "pycharm": {
     "name": "#%%\n"
    }
   },
   "outputs": [
    {
     "name": "stdout",
     "output_type": "stream",
     "text": [
      "Help on built-in function print in module builtins:\n",
      "\n",
      "print(...)\n",
      "    print(value, ..., sep=' ', end='\\n', file=sys.stdout, flush=False)\n",
      "    \n",
      "    Prints the values to a stream, or to sys.stdout by default.\n",
      "    Optional keyword arguments:\n",
      "    file:  a file-like object (stream); defaults to the current sys.stdout.\n",
      "    sep:   string inserted between values, default a space.\n",
      "    end:   string appended after the last value, default a newline.\n",
      "    flush: whether to forcibly flush the stream.\n",
      "\n"
     ]
    }
   ],
   "source": [
    "help(print)"
   ]
  },
  {
   "cell_type": "code",
   "execution_count": 2,
   "id": "4dabd924-2b57-4fe2-8d46-5979a2d9c966",
   "metadata": {
    "pycharm": {
     "name": "#%%\n"
    }
   },
   "outputs": [],
   "source": [
    "# print(value, ..., sep=' ', end='\\n', file=sys.stdout, flush=False)"
   ]
  },
  {
   "cell_type": "code",
   "execution_count": 4,
   "id": "ef67b773-7c70-490a-bdea-503026287131",
   "metadata": {
    "pycharm": {
     "name": "#%%\n"
    }
   },
   "outputs": [
    {
     "name": "stdout",
     "output_type": "stream",
     "text": [
      "Ahmet Mehmet 123\tAli     Veli\n"
     ]
    }
   ],
   "source": [
    "print(\"Ahmet\",\"Mehmet\",123,end='\\t')\n",
    "print(\"Ali\",\"Veli\",sep='     ',end='\\n')"
   ]
  },
  {
   "cell_type": "code",
   "execution_count": 5,
   "id": "e3c47e90-4f7b-4a7b-960e-0e9f8b8318e1",
   "metadata": {
    "pycharm": {
     "name": "#%%\n"
    }
   },
   "outputs": [
    {
     "name": "stdout",
     "output_type": "stream",
     "text": [
      "Ahmet Mehmet 254\n"
     ]
    }
   ],
   "source": [
    "print(\"Ahmet\",\"Mehmet\",254)"
   ]
  },
  {
   "cell_type": "code",
   "execution_count": 6,
   "id": "b2661921-2e71-45c9-8e9d-296bfaae7250",
   "metadata": {
    "pycharm": {
     "name": "#%%\n"
    }
   },
   "outputs": [
    {
     "name": "stdout",
     "output_type": "stream",
     "text": [
      "Benim adım\tAhmet, Yaşım 35\n"
     ]
    }
   ],
   "source": [
    "print(\"Benim adım\\t{}, Yaşım {}\".format(\"Ahmet\",35))"
   ]
  },
  {
   "cell_type": "code",
   "execution_count": 14,
   "id": "3301a46f-93f0-41e8-890f-ba1eb190f57c",
   "metadata": {
    "pycharm": {
     "name": "#%%\n"
    }
   },
   "outputs": [
    {
     "ename": "SyntaxError",
     "evalue": "unexpected character after line continuation character (2072928992.py, line 1)",
     "output_type": "error",
     "traceback": [
      "\u001b[1;36m  Input \u001b[1;32mIn [14]\u001b[1;36m\u001b[0m\n\u001b[1;33m    print(\"Ahmet\",\"Mehmet\",\"123\"\\t )\u001b[0m\n\u001b[1;37m                                 ^\u001b[0m\n\u001b[1;31mSyntaxError\u001b[0m\u001b[1;31m:\u001b[0m unexpected character after line continuation character\n"
     ]
    }
   ],
   "source": [
    "print(\"Ahmet\",\"Mehmet\",123)\n",
    "print(\"Ali\",\"Veli\")\n",
    "print(123,456,789)"
   ]
  },
  {
   "cell_type": "code",
   "execution_count": 17,
   "id": "be1b05ef-c0e7-41ed-8f92-4c2fcae22bce",
   "metadata": {
    "pycharm": {
     "name": "#%%\n"
    }
   },
   "outputs": [
    {
     "name": "stdout",
     "output_type": "stream",
     "text": [
      "Benim adımAhmet,\t Yaşım 35\n"
     ]
    }
   ],
   "source": [
    "print(\"Benim adım{},\\t Yaşım {}\".format(\"Ahmet\",35))"
   ]
  },
  {
   "cell_type": "code",
   "execution_count": 19,
   "id": "ef3c5db2-186d-44c6-bc32-73477456e8f8",
   "metadata": {
    "pycharm": {
     "name": "#%%\n"
    }
   },
   "outputs": [
    {
     "name": "stdout",
     "output_type": "stream",
     "text": [
      "Benim adım  Ahmet,   Yaşım 35\n"
     ]
    }
   ],
   "source": [
    "print(\"Benim adım  {ad},   Yaşım {yas}\".format(ad=\"Ahmet\",yas=35))"
   ]
  },
  {
   "cell_type": "code",
   "execution_count": 26,
   "id": "f16cd219-6d1a-4f9f-93fa-67a5a7e5d1e8",
   "metadata": {
    "pycharm": {
     "name": "#%%\n"
    }
   },
   "outputs": [
    {
     "name": "stdout",
     "output_type": "stream",
     "text": [
      "Benim adım  Ahmet,   Yaşım 35\n"
     ]
    }
   ],
   "source": [
    "ad=\"Ahmet\"\n",
    "yas=35\n",
    "print(\"Benim adım  {0},   Yaşım {1}\".format(ad,yas))"
   ]
  },
  {
   "cell_type": "code",
   "execution_count": 27,
   "id": "2fae4570-44e8-4507-8043-8be691eabac3",
   "metadata": {
    "pycharm": {
     "name": "#%%\n"
    }
   },
   "outputs": [
    {
     "name": "stdout",
     "output_type": "stream",
     "text": [
      "numara  10\n"
     ]
    }
   ],
   "source": [
    "print(\"numara  %d\" %10.55) # %d tamsayı, %s sitring, %f float"
   ]
  },
  {
   "cell_type": "code",
   "execution_count": 43,
   "id": "dc90a648-052a-4348-97ef-4f00744e4efd",
   "metadata": {
    "pycharm": {
     "name": "#%%\n"
    }
   },
   "outputs": [
    {
     "name": "stdout",
     "output_type": "stream",
     "text": [
      "numara  123\n"
     ]
    }
   ],
   "source": [
    "print(\"numara  %s\" %\"123\") # %d tamsayı, %s sitring, %f float"
   ]
  },
  {
   "cell_type": "code",
   "execution_count": 32,
   "id": "cd6e2dbd-932f-4340-94fb-256f411d0ace",
   "metadata": {
    "pycharm": {
     "name": "#%%\n"
    }
   },
   "outputs": [
    {
     "name": "stdout",
     "output_type": "stream",
     "text": [
      "numara  125.000000\n"
     ]
    }
   ],
   "source": [
    "print(\"numara cc %f\" %125) "
   ]
  },
  {
   "cell_type": "code",
   "execution_count": 37,
   "id": "9ca7520a-a1f9-4977-9815-979fa731b7ca",
   "metadata": {
    "pycharm": {
     "name": "#%%\n"
    }
   },
   "outputs": [
    {
     "name": "stdout",
     "output_type": "stream",
     "text": [
      "numara      125.1254870000\n"
     ]
    }
   ],
   "source": [
    "print(\"numara%20.10f\" %125.125487) "
   ]
  },
  {
   "cell_type": "code",
   "execution_count": 41,
   "id": "885ff4cc-00df-4e9f-8fb4-de19a74bd84f",
   "metadata": {
    "pycharm": {
     "name": "#%%\n"
    }
   },
   "outputs": [
    {
     "name": "stdout",
     "output_type": "stream",
     "text": [
      "                       Merhaba\n"
     ]
    }
   ],
   "source": [
    "print(\"{0:>30}\".format(\"Merhaba\",\"Sezai\"))"
   ]
  },
  {
   "cell_type": "code",
   "execution_count": 44,
   "id": "5248334f-d359-480e-850c-5ca59e97bf80",
   "metadata": {
    "pycharm": {
     "name": "#%%\n"
    }
   },
   "outputs": [
    {
     "name": "stdout",
     "output_type": "stream",
     "text": [
      "           Merhaba            \n"
     ]
    }
   ],
   "source": [
    "print(\"{:^30}\".format(\"Merhaba\"))"
   ]
  },
  {
   "cell_type": "code",
   "execution_count": 52,
   "id": "0bf7435a-a899-4187-bcd0-ca184201b489",
   "metadata": {
    "pycharm": {
     "name": "#%%\n"
    }
   },
   "outputs": [
    {
     "name": "stdout",
     "output_type": "stream",
     "text": [
      "***********Merhaba************\n"
     ]
    }
   ],
   "source": [
    "print(\"{0:*^30}\".format(\"Merhaba\"))"
   ]
  },
  {
   "cell_type": "code",
   "execution_count": 53,
   "id": "d2ddb695-6c8d-4667-9b29-b8b59d0d98a1",
   "metadata": {
    "pycharm": {
     "name": "#%%\n"
    }
   },
   "outputs": [
    {
     "name": "stdout",
     "output_type": "stream",
     "text": [
      "Merhaba                       \n"
     ]
    }
   ],
   "source": [
    "print(\"{0:<30}\".format(\"Merhaba\",\"Sezai\"))"
   ]
  },
  {
   "cell_type": "code",
   "execution_count": 58,
   "id": "66dff2f3-98cf-443c-ae9d-deec677e6f1b",
   "metadata": {
    "pycharm": {
     "name": "#%%\n"
    }
   },
   "outputs": [
    {
     "name": "stdout",
     "output_type": "stream",
     "text": [
      ".......#####........\n"
     ]
    }
   ],
   "source": [
    "print((\"#\"*5).center(20,\".\"))"
   ]
  },
  {
   "cell_type": "code",
   "execution_count": 63,
   "id": "060b16e1-c1f3-4750-9945-409a89c35f02",
   "metadata": {
    "pycharm": {
     "name": "#%%\n"
    }
   },
   "outputs": [
    {
     "name": "stdout",
     "output_type": "stream",
     "text": [
      "100         123456789987654321\n"
     ]
    }
   ],
   "source": [
    "print(\"{0:3}  {1:25}\".format(100,123456789987654321))"
   ]
  },
  {
   "cell_type": "code",
   "execution_count": 65,
   "id": "66628223-6f2f-486a-b296-bbbb8d9d8e7a",
   "metadata": {
    "pycharm": {
     "name": "#%%\n"
    }
   },
   "outputs": [],
   "source": [
    "a=\"Ahmet\".rjust(20)"
   ]
  },
  {
   "cell_type": "code",
   "execution_count": 66,
   "id": "75b7832b-d1eb-4e8b-9580-e6b53f47a0ca",
   "metadata": {
    "pycharm": {
     "name": "#%%\n"
    }
   },
   "outputs": [
    {
     "data": {
      "text/plain": [
       "'               Ahmet'"
      ]
     },
     "execution_count": 66,
     "metadata": {},
     "output_type": "execute_result"
    }
   ],
   "source": [
    "a"
   ]
  },
  {
   "cell_type": "code",
   "execution_count": 68,
   "id": "7c290a08-4f25-47a0-880d-cdaf4eb44245",
   "metadata": {
    "pycharm": {
     "name": "#%%\n"
    }
   },
   "outputs": [
    {
     "data": {
      "text/plain": [
       "'Ahmet               '"
      ]
     },
     "execution_count": 68,
     "metadata": {},
     "output_type": "execute_result"
    }
   ],
   "source": [
    "a=\"Ahmet\".ljust(20)\n",
    "a"
   ]
  },
  {
   "cell_type": "code",
   "execution_count": 69,
   "id": "d5756f74-da70-4bbf-94bd-dd05e0d6d121",
   "metadata": {
    "pycharm": {
     "name": "#%%\n"
    }
   },
   "outputs": [
    {
     "data": {
      "text/plain": [
       "'000012'"
      ]
     },
     "execution_count": 69,
     "metadata": {},
     "output_type": "execute_result"
    }
   ],
   "source": [
    "\"12\".zfill(6)"
   ]
  },
  {
   "cell_type": "code",
   "execution_count": 1,
   "id": "125adcb3-698c-48d6-a5b9-5f4b79791c49",
   "metadata": {
    "pycharm": {
     "name": "#%%\n"
    }
   },
   "outputs": [
    {
     "name": "stdout",
     "output_type": "stream",
     "text": [
      "Ahmet Gel bir sanatçıdır.\n",
      "Ahmet Gel bir sanatçıdır.\n"
     ]
    }
   ],
   "source": [
    "# f- string\n",
    "name= \"Ahmet\"\n",
    "surname= \"Gel\"\n",
    "mesage=f\"{name}  {surname} bir sanatçıdır.\"\n",
    "print(mesage)"
   ]
  },
  {
   "cell_type": "code",
   "execution_count": 71,
   "id": "d9bed6de-f8c4-490b-b182-5427f2d7234a",
   "metadata": {
    "pycharm": {
     "name": "#%%\n"
    }
   },
   "outputs": [
    {
     "name": "stdout",
     "output_type": "stream",
     "text": [
      "Ahmet  Gel bir sanatçıdır.\n"
     ]
    }
   ],
   "source": [
    "print(f\"{name}  {surname} bir sanatçıdır.\")"
   ]
  },
  {
   "cell_type": "code",
   "execution_count": 73,
   "id": "96d9cf06-ded4-4c47-9438-2146caf50cbc",
   "metadata": {
    "pycharm": {
     "name": "#%%\n"
    }
   },
   "outputs": [
    {
     "name": "stdout",
     "output_type": "stream",
     "text": [
      "'Ahmet  Gel' bir sanatçıdır.\n"
     ]
    }
   ],
   "source": [
    "print(f\"'{name}  {surname}' bir sanatçıdır.\")"
   ]
  },
  {
   "cell_type": "code",
   "execution_count": 74,
   "id": "e0747eeb-095e-409b-89b3-7a5bcc3a7dd9",
   "metadata": {
    "pycharm": {
     "name": "#%%\n"
    }
   },
   "outputs": [
    {
     "name": "stdout",
     "output_type": "stream",
     "text": [
      "\"Ahmet  Gel\" bir sanatçıdır.\n"
     ]
    }
   ],
   "source": [
    "print(f'\"{name}  {surname}\" bir sanatçıdır.')"
   ]
  },
  {
   "cell_type": "code",
   "execution_count": 75,
   "id": "b3be908d-6168-41c1-aef6-97a4d8cd4064",
   "metadata": {
    "pycharm": {
     "name": "#%%\n"
    }
   },
   "outputs": [
    {
     "name": "stdout",
     "output_type": "stream",
     "text": [
      "\"Ahmet  Gel\" bir sanatçıdır.\n"
     ]
    }
   ],
   "source": [
    "# \\ kaçış dizini\n",
    "print(f\"\\\"{name}  {surname}\\\" bir sanatçıdır.\")"
   ]
  },
  {
   "cell_type": "code",
   "execution_count": 79,
   "id": "86f975e0-bf78-4306-a539-529f8698fdf5",
   "metadata": {
    "pycharm": {
     "name": "#%%\n"
    }
   },
   "outputs": [
    {
     "name": "stdout",
     "output_type": "stream",
     "text": [
      "\"Ahmet  Gel\" bir sanatçıdır.\n"
     ]
    }
   ],
   "source": [
    "# \\ kullanınca komut alt satırı da dikkate alıyor. \n",
    "print(f\"\\\"{name}  {surname}\\\" bir \\\n",
    "sanatçıdır.\")"
   ]
  },
  {
   "cell_type": "code",
   "execution_count": 82,
   "id": "bf172243-6e69-4eb0-9f7b-2ebfcad2af44",
   "metadata": {
    "pycharm": {
     "name": "#%%\n"
    }
   },
   "outputs": [
    {
     "name": "stdout",
     "output_type": "stream",
     "text": [
      "\"Ahmet  Gel\" bir\n",
      "sanatçıdır.\n"
     ]
    }
   ],
   "source": [
    "print(f\"\"\"\\\"{name}  {surname}\\\" bir\n",
    "sanatçıdır.\"\"\")"
   ]
  },
  {
   "cell_type": "code",
   "execution_count": 87,
   "id": "c1e7dd20-6cb9-43c8-a823-699bdd97b359",
   "metadata": {
    "pycharm": {
     "name": "#%%\n"
    }
   },
   "outputs": [
    {
     "name": "stdout",
     "output_type": "stream",
     "text": [
      "\"Ahme        G   \" bir sanatçıdır.\n"
     ]
    }
   ],
   "source": [
    "print(f\"\\\"{name:10.4}  {surname:4.1}\\\" bir \\\n",
    "sanatçıdır.\")"
   ]
  },
  {
   "cell_type": "code",
   "execution_count": 93,
   "id": "02de3ce3-92d9-4c62-b545-6e8b956fcd19",
   "metadata": {
    "pycharm": {
     "name": "#%%\n"
    }
   },
   "outputs": [
    {
     "name": "stdout",
     "output_type": "stream",
     "text": [
      "Pi saısı : 3.14\n"
     ]
    }
   ],
   "source": [
    "pi=3.14151820255889\n",
    "print(f\"Pi saısı : {pi:.3}\")"
   ]
  },
  {
   "cell_type": "code",
   "execution_count": 94,
   "id": "71f9c908-2d46-4480-83e1-a561a37847d4",
   "metadata": {
    "pycharm": {
     "name": "#%%\n"
    }
   },
   "outputs": [
    {
     "name": "stdout",
     "output_type": "stream",
     "text": [
      "Sayı binary sistem 10000\n"
     ]
    }
   ],
   "source": [
    "number=16\n",
    "print(f\"Sayı binary sistem {number:b}\")"
   ]
  },
  {
   "cell_type": "code",
   "execution_count": 95,
   "id": "fde4a7ea-3781-4fc3-a682-d50eff17a390",
   "metadata": {
    "pycharm": {
     "name": "#%%\n"
    }
   },
   "outputs": [
    {
     "name": "stdout",
     "output_type": "stream",
     "text": [
      "Sayı sekizli sistem 0o20\n"
     ]
    }
   ],
   "source": [
    "number=16      # #x onaltılı #o sekizli\n",
    "print(f\"Sayı sekizli sistem {number:#o}\")"
   ]
  },
  {
   "cell_type": "code",
   "execution_count": 98,
   "id": "6ce20d03-d02a-4902-b228-6ddc69bcaff8",
   "metadata": {
    "pycharm": {
     "name": "#%%\n"
    }
   },
   "outputs": [
    {
     "name": "stdout",
     "output_type": "stream",
     "text": [
      "Hello  Hello  Hello  Hello  Hello  Hello  Hello  Hello  Hello  Hello  \n"
     ]
    }
   ],
   "source": [
    "print(\"Hello  \"*10)"
   ]
  },
  {
   "cell_type": "code",
   "execution_count": 99,
   "id": "d6144802-dbaa-4915-9c67-9947539f8bb7",
   "metadata": {
    "pycharm": {
     "name": "#%%\n"
    }
   },
   "outputs": [
    {
     "name": "stdout",
     "output_type": "stream",
     "text": [
      "121212121212121212121212\n"
     ]
    }
   ],
   "source": [
    "sayi=\"12\"\n",
    "print(sayi*12)"
   ]
  },
  {
   "cell_type": "code",
   "execution_count": 16,
   "id": "e7629087-d11d-4d9b-ac4e-04601eaede26",
   "metadata": {},
   "outputs": [
    {
     "name": "stdin",
     "output_type": "stream",
     "text": [
      "Yarı çapı giriniz : ? 15\n"
     ]
    },
    {
     "name": "stdout",
     "output_type": "stream",
     "text": [
      "Dairenin çapı :30.0m, çevresi :94.2m, alanı :706.5m² dir. \n"
     ]
    }
   ],
   "source": [
    "# Yarı çapı girdikten sonra çap, çevre ve alanı ekran çıktısı olarak veren program\n",
    "r=float(input(\"Yarı çapı giriniz : ?\"))\n",
    "cap = 2*r\n",
    "cevre = 2*3.14*r\n",
    "alan = 3.14*r**2\n",
    "print(\"Dairenin çapı :{}m, çevresi :{}m, alanı :{}m² dir. \".format(2*r,cevre,alan))"
   ]
  },
  {
   "cell_type": "code",
   "execution_count": 17,
   "id": "dc94c2ba-b5ea-4c9c-8f55-3c0211c7a6e7",
   "metadata": {},
   "outputs": [
    {
     "name": "stdin",
     "output_type": "stream",
     "text": [
      "Yarı çapı giriniz : ? 15\n"
     ]
    },
    {
     "name": "stdout",
     "output_type": "stream",
     "text": [
      "Dairenin çapı :30.0m, çevresi :94.2m, alanı :706.5m² dir. \n"
     ]
    }
   ],
   "source": [
    "r=float(input(\"Yarı çapı giriniz : ?\"))\n",
    "cap = 2*r\n",
    "cevre = 2*3.14*r\n",
    "alan = 3.14*r**2\n",
    "print(f\"Dairenin çapı :{cap}m, çevresi :{cevre}m, alanı :{alan}m² dir. \")"
   ]
  },
  {
   "cell_type": "code",
   "execution_count": 18,
   "id": "e84a1dc9-287f-41ed-8858-cce001f8d64d",
   "metadata": {},
   "outputs": [
    {
     "name": "stdin",
     "output_type": "stream",
     "text": [
      "Yarı çapı giriniz : ? 15\n"
     ]
    },
    {
     "name": "stdout",
     "output_type": "stream",
     "text": [
      "Dairenin çapı :30.0m, çevresi :94.2m, alanı :706.5m² dir. \n"
     ]
    }
   ],
   "source": [
    "r=float(input(\"Yarı çapı giriniz : ?\"))\n",
    "print(f\"Dairenin çapı :{2*r}m, çevresi :{2*3.14*r}m, alanı :{3.14*r**2}m² dir. \")"
   ]
  },
  {
   "cell_type": "code",
   "execution_count": 102,
   "id": "5654e9d7-d010-4b32-92ea-d5ff55b03f4b",
   "metadata": {
    "pycharm": {
     "name": "#%%\n"
    }
   },
   "outputs": [],
   "source": [
    "sayi0=5;sayi=15"
   ]
  },
  {
   "cell_type": "code",
   "execution_count": 104,
   "id": "5831570b-2584-4247-9541-cc36cc9861a2",
   "metadata": {
    "pycharm": {
     "name": "#%%\n"
    }
   },
   "outputs": [
    {
     "data": {
      "text/plain": [
       "15"
      ]
     },
     "execution_count": 104,
     "metadata": {},
     "output_type": "execute_result"
    }
   ],
   "source": [
    "sayi"
   ]
  },
  {
   "cell_type": "code",
   "execution_count": 22,
   "id": "86ed6e72-7456-4d65-99d3-07348cc6ad50",
   "metadata": {
    "pycharm": {
     "name": "#%%\n"
    }
   },
   "outputs": [],
   "source": [
    "st='Python'"
   ]
  },
  {
   "cell_type": "code",
   "execution_count": 23,
   "id": "f088209a-c230-4981-b834-c46bc30d4c69",
   "metadata": {
    "pycharm": {
     "name": "#%%\n"
    }
   },
   "outputs": [
    {
     "data": {
      "text/plain": [
       "'o'"
      ]
     },
     "execution_count": 23,
     "metadata": {},
     "output_type": "execute_result"
    }
   ],
   "source": [
    "st[4]"
   ]
  },
  {
   "cell_type": "code",
   "execution_count": 108,
   "id": "a875671c-c04f-47f7-a546-5231d2b99472",
   "metadata": {
    "pycharm": {
     "name": "#%%\n"
    }
   },
   "outputs": [
    {
     "name": "stdout",
     "output_type": "stream",
     "text": [
      "P\n",
      "y\n",
      "t\n",
      "h\n",
      "o\n",
      "n\n"
     ]
    }
   ],
   "source": [
    "for x in 'Python':\n",
    "    print(x)"
   ]
  },
  {
   "cell_type": "code",
   "execution_count": 27,
   "id": "8dd31461-efc7-4d35-a8cb-d172539b68a4",
   "metadata": {},
   "outputs": [
    {
     "name": "stdout",
     "output_type": "stream",
     "text": [
      "5050\n"
     ]
    }
   ],
   "source": [
    "top=0\n",
    "for x in range(101):\n",
    "    top=top+x  # top += x\n",
    "print(top)"
   ]
  },
  {
   "cell_type": "code",
   "execution_count": 118,
   "id": "63fc1f30-3802-4987-a978-c1910337c42b",
   "metadata": {},
   "outputs": [
    {
     "name": "stdin",
     "output_type": "stream",
     "text": [
      "Sayi gir :? 5\n"
     ]
    },
    {
     "name": "stdout",
     "output_type": "stream",
     "text": [
      "1 1\n",
      "2 2\n",
      "3 6\n",
      "4 24\n",
      "5 120\n",
      "120\n"
     ]
    }
   ],
   "source": [
    "sayi = int(input(\"Sayi gir :?\"))\n",
    "f = 1\n",
    "for x in range(1,sayi+1):\n",
    "    f *= x # f = f*x \n",
    "    print(x,f)\n",
    "print(f)"
   ]
  },
  {
   "cell_type": "code",
   "execution_count": 114,
   "id": "ed2ec200-67aa-4c17-8bfa-31f28ac82e44",
   "metadata": {
    "pycharm": {
     "name": "#%%\n"
    }
   },
   "outputs": [
    {
     "name": "stdout",
     "output_type": "stream",
     "text": [
      "P\ty\tt\th\to\tn\t\n",
      "azz\n"
     ]
    }
   ],
   "source": [
    "for i in st:\n",
    "    print(i,end='\\t')\n",
    "print()\n",
    "print(\"azz\")"
   ]
  },
  {
   "cell_type": "code",
   "execution_count": 115,
   "id": "45aade1f-0c56-43f6-b2f4-1af714911ace",
   "metadata": {
    "pycharm": {
     "name": "#%%\n"
    }
   },
   "outputs": [
    {
     "name": "stdout",
     "output_type": "stream",
     "text": [
      "Ahmet\n",
      "Mehmet\n",
      "Ali\n"
     ]
    }
   ],
   "source": [
    "liste=[\"Ahmet\", \"Mehmet\",\"Ali\"]\n",
    "for isim in liste:\n",
    "    print(isim)"
   ]
  },
  {
   "cell_type": "code",
   "execution_count": 116,
   "id": "6835fab4-dd1c-4c54-83a1-89ebb34b7522",
   "metadata": {
    "pycharm": {
     "name": "#%%\n"
    }
   },
   "outputs": [
    {
     "data": {
      "text/plain": [
       "'Python'"
      ]
     },
     "execution_count": 116,
     "metadata": {},
     "output_type": "execute_result"
    }
   ],
   "source": [
    "st"
   ]
  },
  {
   "cell_type": "code",
   "execution_count": 119,
   "id": "14e2a99e-f6a3-4517-be4e-27d045fe7913",
   "metadata": {
    "pycharm": {
     "name": "#%%\n"
    }
   },
   "outputs": [
    {
     "name": "stdout",
     "output_type": "stream",
     "text": [
      "PYTHON\n"
     ]
    }
   ],
   "source": [
    "print(st.upper())"
   ]
  },
  {
   "cell_type": "code",
   "execution_count": 123,
   "id": "1dded9b1-80b0-43a3-b589-d772f84eb0b5",
   "metadata": {
    "pycharm": {
     "name": "#%%\n"
    }
   },
   "outputs": [],
   "source": [
    "st = st.upper()"
   ]
  },
  {
   "cell_type": "code",
   "execution_count": 124,
   "id": "90aed991-4fa9-4555-aae0-1b96722060fc",
   "metadata": {
    "pycharm": {
     "name": "#%%\n"
    }
   },
   "outputs": [
    {
     "data": {
      "text/plain": [
       "'PYTHON'"
      ]
     },
     "execution_count": 124,
     "metadata": {},
     "output_type": "execute_result"
    }
   ],
   "source": [
    "st"
   ]
  },
  {
   "cell_type": "code",
   "execution_count": 125,
   "id": "61ff505b-fdd5-4f66-bb39-4c149a8706a0",
   "metadata": {
    "pycharm": {
     "name": "#%%\n"
    }
   },
   "outputs": [
    {
     "name": "stdout",
     "output_type": "stream",
     "text": [
      "python\n"
     ]
    }
   ],
   "source": [
    "print(st.lower())"
   ]
  },
  {
   "cell_type": "code",
   "execution_count": 126,
   "id": "f0b7be46-681f-496d-9f6e-1be88dc46062",
   "metadata": {
    "pycharm": {
     "name": "#%%\n"
    }
   },
   "outputs": [
    {
     "data": {
      "text/plain": [
       "'PYTHON'"
      ]
     },
     "execution_count": 126,
     "metadata": {},
     "output_type": "execute_result"
    }
   ],
   "source": [
    "st"
   ]
  },
  {
   "cell_type": "code",
   "execution_count": 127,
   "id": "cd3901bd-1dc9-4c43-8565-451acb774660",
   "metadata": {
    "pycharm": {
     "name": "#%%\n"
    }
   },
   "outputs": [],
   "source": [
    "st = st+\"    ders     \" "
   ]
  },
  {
   "cell_type": "code",
   "execution_count": 128,
   "id": "2d286a18-0f62-4070-b1ff-c11aa341faaa",
   "metadata": {
    "pycharm": {
     "name": "#%%\n"
    }
   },
   "outputs": [
    {
     "data": {
      "text/plain": [
       "'PYTHON    ders     '"
      ]
     },
     "execution_count": 128,
     "metadata": {},
     "output_type": "execute_result"
    }
   ],
   "source": [
    "st"
   ]
  },
  {
   "cell_type": "code",
   "execution_count": 129,
   "id": "51ea6fa5-4c3e-4cda-8092-cce70a1ca8bd",
   "metadata": {
    "pycharm": {
     "name": "#%%\n"
    }
   },
   "outputs": [],
   "source": [
    "st = st + \"    ders     \" "
   ]
  },
  {
   "cell_type": "code",
   "execution_count": 130,
   "id": "4934a3c2-6380-4cbb-84d7-dba5a1564d8e",
   "metadata": {
    "pycharm": {
     "name": "#%%\n"
    }
   },
   "outputs": [
    {
     "data": {
      "text/plain": [
       "'PYTHON    ders         ders     '"
      ]
     },
     "execution_count": 130,
     "metadata": {},
     "output_type": "execute_result"
    }
   ],
   "source": [
    "st"
   ]
  },
  {
   "cell_type": "code",
   "execution_count": 131,
   "id": "1ba41629-98e3-4a63-9106-ac519e174b49",
   "metadata": {
    "pycharm": {
     "name": "#%%\n"
    }
   },
   "outputs": [
    {
     "data": {
      "text/plain": [
       "['PYTHON', 'ders', 'ders']"
      ]
     },
     "execution_count": 131,
     "metadata": {},
     "output_type": "execute_result"
    }
   ],
   "source": [
    "st.split()"
   ]
  },
  {
   "cell_type": "code",
   "execution_count": 132,
   "id": "6d4024c2-ed51-4f20-b02e-3ec93cf419c3",
   "metadata": {
    "pycharm": {
     "name": "#%%\n"
    }
   },
   "outputs": [
    {
     "data": {
      "text/plain": [
       "'PYTHON    ders         ders     '"
      ]
     },
     "execution_count": 132,
     "metadata": {},
     "output_type": "execute_result"
    }
   ],
   "source": [
    "st"
   ]
  },
  {
   "cell_type": "code",
   "execution_count": 133,
   "id": "1750fc47-f90b-415a-8bd0-b9c139a4fb9e",
   "metadata": {
    "pycharm": {
     "name": "#%%\n"
    }
   },
   "outputs": [
    {
     "data": {
      "text/plain": [
       "'python    DERS         DERS     '"
      ]
     },
     "execution_count": 133,
     "metadata": {},
     "output_type": "execute_result"
    }
   ],
   "source": [
    "st.swapcase()"
   ]
  },
  {
   "cell_type": "code",
   "execution_count": 134,
   "id": "fa5c6d8c-cec5-46b8-9e9d-3d6f1b5f26bd",
   "metadata": {
    "pycharm": {
     "name": "#%%\n"
    }
   },
   "outputs": [],
   "source": [
    "st='Python'"
   ]
  },
  {
   "cell_type": "code",
   "execution_count": 135,
   "id": "0538432c-8e2d-493f-832b-469f46f93803",
   "metadata": {
    "pycharm": {
     "name": "#%%\n"
    }
   },
   "outputs": [
    {
     "name": "stdout",
     "output_type": "stream",
     "text": [
      "['Py', 'hon']\n"
     ]
    }
   ],
   "source": [
    "print(st.split('t'))"
   ]
  },
  {
   "cell_type": "code",
   "execution_count": 36,
   "id": "fcdeca30-b9f6-459b-9399-a7d9e86deed6",
   "metadata": {
    "pycharm": {
     "name": "#%%\n"
    }
   },
   "outputs": [],
   "source": [
    "st='      Python   '"
   ]
  },
  {
   "cell_type": "code",
   "execution_count": 37,
   "id": "253f2946-5562-4996-9ffc-0807d9f1ec1f",
   "metadata": {
    "pycharm": {
     "name": "#%%\n"
    }
   },
   "outputs": [
    {
     "data": {
      "text/plain": [
       "'      Python   '"
      ]
     },
     "execution_count": 37,
     "metadata": {},
     "output_type": "execute_result"
    }
   ],
   "source": [
    "st"
   ]
  },
  {
   "cell_type": "code",
   "execution_count": 38,
   "id": "fd79ca55-1bfa-493e-bf35-4a322c839ed7",
   "metadata": {
    "pycharm": {
     "name": "#%%\n"
    }
   },
   "outputs": [
    {
     "name": "stdout",
     "output_type": "stream",
     "text": [
      "[' ', ' ', ' ', ' ', ' ', ' ', 'P', 'y', 't', 'h', 'o', 'n', ' ', ' ', ' ']\n"
     ]
    }
   ],
   "source": [
    "print(list(st))"
   ]
  },
  {
   "cell_type": "code",
   "execution_count": 39,
   "id": "0de6c4a3-9217-4962-9ed8-2dc7bee05b2b",
   "metadata": {
    "pycharm": {
     "name": "#%%\n"
    }
   },
   "outputs": [
    {
     "data": {
      "text/plain": [
       "'Python'"
      ]
     },
     "execution_count": 39,
     "metadata": {},
     "output_type": "execute_result"
    }
   ],
   "source": [
    "st.strip()"
   ]
  },
  {
   "cell_type": "code",
   "execution_count": 40,
   "id": "f2242a9f-22c3-405d-85ed-ee6f498b3068",
   "metadata": {
    "pycharm": {
     "name": "#%%\n"
    }
   },
   "outputs": [
    {
     "data": {
      "text/plain": [
       "'      Python   '"
      ]
     },
     "execution_count": 40,
     "metadata": {},
     "output_type": "execute_result"
    }
   ],
   "source": [
    "st"
   ]
  },
  {
   "cell_type": "code",
   "execution_count": 41,
   "id": "fac702e2-0b44-46f5-88b7-b78f1f87be78",
   "metadata": {
    "pycharm": {
     "name": "#%%\n"
    }
   },
   "outputs": [
    {
     "name": "stdout",
     "output_type": "stream",
     "text": [
      "['P', 'y', 't', 'h', 'o', 'n']\n"
     ]
    }
   ],
   "source": [
    "print(list(st.strip()))"
   ]
  },
  {
   "cell_type": "code",
   "execution_count": 144,
   "id": "3cc356e9-16dd-4e3f-acd6-a215063cf5e9",
   "metadata": {
    "pycharm": {
     "name": "#%%\n"
    }
   },
   "outputs": [
    {
     "name": "stdout",
     "output_type": "stream",
     "text": [
      "P y t h o n      \n"
     ]
    }
   ],
   "source": [
    "print(*st)"
   ]
  },
  {
   "cell_type": "code",
   "execution_count": 145,
   "id": "e50a5ada-01db-41b7-b4da-439759696279",
   "metadata": {
    "pycharm": {
     "name": "#%%\n"
    }
   },
   "outputs": [
    {
     "name": "stdout",
     "output_type": "stream",
     "text": [
      "['P', 'y', 't', 'h', 'o', 'n', ' ', ' ', ' ']\n"
     ]
    }
   ],
   "source": [
    "print([*st])"
   ]
  },
  {
   "cell_type": "code",
   "execution_count": 148,
   "id": "17db4761-ff62-45ce-83c8-2af2decce131",
   "metadata": {
    "pycharm": {
     "name": "#%%\n"
    }
   },
   "outputs": [
    {
     "name": "stdout",
     "output_type": "stream",
     "text": [
      "['Bug', 'n g', 'nlerdÜn C', 'uma']\n"
     ]
    }
   ],
   "source": [
    "metin=\"Bugün günlerdÜn Cüuma\"\n",
    "print(metin.split(\"ü\"))"
   ]
  },
  {
   "cell_type": "code",
   "execution_count": 149,
   "id": "b5bc05a9-cc02-46da-a451-123dcb2eeda8",
   "metadata": {
    "pycharm": {
     "name": "#%%\n"
    }
   },
   "outputs": [
    {
     "data": {
      "text/plain": [
       "'Python   '"
      ]
     },
     "execution_count": 149,
     "metadata": {},
     "output_type": "execute_result"
    }
   ],
   "source": [
    "st"
   ]
  },
  {
   "cell_type": "code",
   "execution_count": 150,
   "id": "66293a59-15fc-4248-bc79-44c822004efd",
   "metadata": {
    "pycharm": {
     "name": "#%%\n"
    }
   },
   "outputs": [
    {
     "data": {
      "text/plain": [
       "'t'"
      ]
     },
     "execution_count": 150,
     "metadata": {},
     "output_type": "execute_result"
    }
   ],
   "source": [
    "st[2]"
   ]
  },
  {
   "cell_type": "code",
   "execution_count": 151,
   "id": "7877cdf8-a962-4a69-8811-64bbdd2cf08e",
   "metadata": {
    "pycharm": {
     "name": "#%%\n"
    }
   },
   "outputs": [
    {
     "ename": "TypeError",
     "evalue": "'str' object does not support item assignment",
     "output_type": "error",
     "traceback": [
      "\u001b[1;31m---------------------------------------------------------------------------\u001b[0m",
      "\u001b[1;31mTypeError\u001b[0m                                 Traceback (most recent call last)",
      "Input \u001b[1;32mIn [151]\u001b[0m, in \u001b[0;36m<cell line: 1>\u001b[1;34m()\u001b[0m\n\u001b[1;32m----> 1\u001b[0m st[\u001b[38;5;241m2\u001b[39m]\u001b[38;5;241m=\u001b[39m\u001b[38;5;124m\"\u001b[39m\u001b[38;5;124mK\u001b[39m\u001b[38;5;124m\"\u001b[39m\n",
      "\u001b[1;31mTypeError\u001b[0m: 'str' object does not support item assignment"
     ]
    }
   ],
   "source": [
    "st[2]=\"K\" # immutable"
   ]
  },
  {
   "cell_type": "code",
   "execution_count": 152,
   "id": "04b73d81-8489-4839-8237-df6521a12a6f",
   "metadata": {
    "pycharm": {
     "name": "#%%\n"
    }
   },
   "outputs": [],
   "source": [
    "st=list(st.strip())"
   ]
  },
  {
   "cell_type": "code",
   "execution_count": 153,
   "id": "96ce4f94-d00c-4a28-900e-ec0cc0b84002",
   "metadata": {
    "pycharm": {
     "name": "#%%\n"
    }
   },
   "outputs": [
    {
     "data": {
      "text/plain": [
       "['P', 'y', 't', 'h', 'o', 'n']"
      ]
     },
     "execution_count": 153,
     "metadata": {},
     "output_type": "execute_result"
    }
   ],
   "source": [
    "st"
   ]
  },
  {
   "cell_type": "code",
   "execution_count": 154,
   "id": "089c7017-9068-4388-8a78-c6923f893326",
   "metadata": {
    "pycharm": {
     "name": "#%%\n"
    }
   },
   "outputs": [
    {
     "data": {
      "text/plain": [
       "'t'"
      ]
     },
     "execution_count": 154,
     "metadata": {},
     "output_type": "execute_result"
    }
   ],
   "source": [
    "st[2]"
   ]
  },
  {
   "cell_type": "code",
   "execution_count": 155,
   "id": "eb6ad2fa-7912-47d4-8a1b-3215084be472",
   "metadata": {
    "pycharm": {
     "name": "#%%\n"
    }
   },
   "outputs": [],
   "source": [
    "st[2]=\"K\""
   ]
  },
  {
   "cell_type": "code",
   "execution_count": 156,
   "id": "6a42230b-0120-43ee-9182-dcd2e74a3744",
   "metadata": {
    "pycharm": {
     "name": "#%%\n"
    }
   },
   "outputs": [
    {
     "data": {
      "text/plain": [
       "['P', 'y', 'K', 'h', 'o', 'n']"
      ]
     },
     "execution_count": 156,
     "metadata": {},
     "output_type": "execute_result"
    }
   ],
   "source": [
    "st"
   ]
  },
  {
   "cell_type": "code",
   "execution_count": 157,
   "id": "ee218756-8363-4c5d-aee0-fa9f9dd6ca77",
   "metadata": {
    "pycharm": {
     "name": "#%%\n"
    }
   },
   "outputs": [
    {
     "data": {
      "text/plain": [
       "['K', 'h', 'o']"
      ]
     },
     "execution_count": 157,
     "metadata": {},
     "output_type": "execute_result"
    }
   ],
   "source": [
    "st[2:5]"
   ]
  },
  {
   "cell_type": "code",
   "execution_count": 158,
   "id": "bfc4a4a8-18ae-4807-b547-0b9b651be743",
   "metadata": {
    "pycharm": {
     "name": "#%%\n"
    }
   },
   "outputs": [],
   "source": [
    "metin=\"Pythyon öğryenmyek zevykliydir.\""
   ]
  },
  {
   "cell_type": "code",
   "execution_count": 159,
   "id": "8d0265e9-4d0b-4990-966a-3badeff917f5",
   "metadata": {
    "pycharm": {
     "name": "#%%\n"
    }
   },
   "outputs": [
    {
     "name": "stdout",
     "output_type": "stream",
     "text": [
      "PYTHYON ÖĞRYENMYEK ZEVYKLIYDIR.\n"
     ]
    }
   ],
   "source": [
    "print(metin.upper())"
   ]
  },
  {
   "cell_type": "code",
   "execution_count": 160,
   "id": "a00109a1-7b2e-4c4a-8438-c7ea9d69382c",
   "metadata": {
    "pycharm": {
     "name": "#%%\n"
    }
   },
   "outputs": [
    {
     "name": "stdout",
     "output_type": "stream",
     "text": [
      "pythyon öğryenmyek zevykliydir.\n"
     ]
    }
   ],
   "source": [
    "print(metin.lower())"
   ]
  },
  {
   "cell_type": "code",
   "execution_count": 161,
   "id": "d67ee29b-4f2d-4b6e-b281-435aa963924a",
   "metadata": {
    "pycharm": {
     "name": "#%%\n"
    }
   },
   "outputs": [
    {
     "name": "stdout",
     "output_type": "stream",
     "text": [
      "Pythyon Öğryenmyek Zevykliydir.\n"
     ]
    }
   ],
   "source": [
    "print(metin.title())"
   ]
  },
  {
   "cell_type": "code",
   "execution_count": 162,
   "id": "73881e8b-4153-459a-aa5e-f3af7c616324",
   "metadata": {
    "pycharm": {
     "name": "#%%\n"
    }
   },
   "outputs": [
    {
     "data": {
      "text/plain": [
       "'Pythyon öğryenmyek zevykliydir.'"
      ]
     },
     "execution_count": 162,
     "metadata": {},
     "output_type": "execute_result"
    }
   ],
   "source": [
    "metin.capitalize()"
   ]
  },
  {
   "cell_type": "code",
   "execution_count": 164,
   "id": "60bba454-ecaa-4f21-bdd7-fcf5c0b7700d",
   "metadata": {
    "pycharm": {
     "name": "#%%\n"
    }
   },
   "outputs": [
    {
     "data": {
      "text/plain": [
       "['P', 'th', 'on öğr', 'enmyek zevykliydir.']"
      ]
     },
     "execution_count": 164,
     "metadata": {},
     "output_type": "execute_result"
    }
   ],
   "source": [
    "metin.split(sep=\"y\",maxsplit=3)"
   ]
  },
  {
   "cell_type": "code",
   "execution_count": 165,
   "id": "5f1c63c1-873f-448a-af1d-6293ecc8b178",
   "metadata": {
    "pycharm": {
     "name": "#%%\n"
    }
   },
   "outputs": [
    {
     "data": {
      "text/plain": [
       "['P', 'th', 'on öğr', 'enmyek zevykliydir.']"
      ]
     },
     "execution_count": 165,
     "metadata": {},
     "output_type": "execute_result"
    }
   ],
   "source": [
    "metin.split(\"y\",3)"
   ]
  },
  {
   "cell_type": "code",
   "execution_count": 166,
   "id": "734f956f-89ba-4e63-a5a7-31d9483574cc",
   "metadata": {
    "pycharm": {
     "name": "#%%\n"
    }
   },
   "outputs": [
    {
     "name": "stdout",
     "output_type": "stream",
     "text": [
      "True False False\n"
     ]
    }
   ],
   "source": [
    "a=True\n",
    "b=False\n",
    "zz= \"False\"\n",
    "print(a,b,zz)"
   ]
  },
  {
   "cell_type": "code",
   "execution_count": 168,
   "id": "4f359a32-21c1-4b94-820d-04a073c044f8",
   "metadata": {
    "pycharm": {
     "name": "#%%\n"
    }
   },
   "outputs": [
    {
     "data": {
      "text/plain": [
       "bool"
      ]
     },
     "execution_count": 168,
     "metadata": {},
     "output_type": "execute_result"
    }
   ],
   "source": [
    "type(b)"
   ]
  },
  {
   "cell_type": "code",
   "execution_count": 170,
   "id": "dd8a8d01-82b9-4ab5-a515-3909703e44b7",
   "metadata": {
    "pycharm": {
     "name": "#%%\n"
    }
   },
   "outputs": [
    {
     "name": "stdout",
     "output_type": "stream",
     "text": [
      "<class 'str'>\n"
     ]
    }
   ],
   "source": [
    "print(type(zz))"
   ]
  },
  {
   "cell_type": "code",
   "execution_count": 178,
   "id": "1f3100f6-dc0d-47f1-a79c-d00bd387aa67",
   "metadata": {
    "pycharm": {
     "name": "#%%\n"
    }
   },
   "outputs": [],
   "source": [
    "x=5;y=8"
   ]
  },
  {
   "cell_type": "code",
   "execution_count": 42,
   "id": "95f3b915-b409-486f-90e8-771fbe3f86d6",
   "metadata": {
    "pycharm": {
     "name": "#%%\n"
    }
   },
   "outputs": [],
   "source": [
    "x,y=10,20"
   ]
  },
  {
   "cell_type": "code",
   "execution_count": 45,
   "id": "a6ea73a9-1d0b-49bd-8e5e-955c554d6997",
   "metadata": {},
   "outputs": [],
   "source": [
    "x,y=y,x"
   ]
  },
  {
   "cell_type": "code",
   "execution_count": 46,
   "id": "211735f9-b094-491a-8916-11a0cd6c8cae",
   "metadata": {
    "pycharm": {
     "name": "#%%\n"
    }
   },
   "outputs": [
    {
     "data": {
      "text/plain": [
       "20"
      ]
     },
     "execution_count": 46,
     "metadata": {},
     "output_type": "execute_result"
    }
   ],
   "source": [
    "x"
   ]
  },
  {
   "cell_type": "code",
   "execution_count": 47,
   "id": "c2960c8b-17af-4cdf-ac4d-33f97357c40e",
   "metadata": {
    "pycharm": {
     "name": "#%%\n"
    }
   },
   "outputs": [
    {
     "data": {
      "text/plain": [
       "10"
      ]
     },
     "execution_count": 47,
     "metadata": {},
     "output_type": "execute_result"
    }
   ],
   "source": [
    "y"
   ]
  },
  {
   "cell_type": "code",
   "execution_count": 48,
   "id": "5c62dbb7-e2be-4c22-a04f-a2fb92e874fc",
   "metadata": {
    "pycharm": {
     "name": "#%%\n"
    }
   },
   "outputs": [
    {
     "name": "stdout",
     "output_type": "stream",
     "text": [
      "False\n"
     ]
    }
   ],
   "source": [
    "print(x==y)"
   ]
  },
  {
   "cell_type": "code",
   "execution_count": 49,
   "id": "ba6f4d76-593b-42e5-bba9-f75b3b57789f",
   "metadata": {
    "pycharm": {
     "name": "#%%\n"
    }
   },
   "outputs": [
    {
     "name": "stdout",
     "output_type": "stream",
     "text": [
      "True\n"
     ]
    }
   ],
   "source": [
    "print(x!=y)"
   ]
  },
  {
   "cell_type": "code",
   "execution_count": 50,
   "id": "cad3b8c4-80cf-4df5-98db-089c639389f4",
   "metadata": {
    "pycharm": {
     "name": "#%%\n"
    }
   },
   "outputs": [],
   "source": [
    "x=y=z=15"
   ]
  },
  {
   "cell_type": "code",
   "execution_count": 51,
   "id": "ec21afc5-1ddc-45cc-92a8-fe8431429d22",
   "metadata": {
    "pycharm": {
     "name": "#%%\n"
    }
   },
   "outputs": [
    {
     "name": "stdout",
     "output_type": "stream",
     "text": [
      "False\n"
     ]
    }
   ],
   "source": [
    "print(not x==y)"
   ]
  },
  {
   "cell_type": "code",
   "execution_count": 6,
   "id": "0bc70377-3b42-43ee-966d-69ff90860023",
   "metadata": {
    "pycharm": {
     "name": "#%%\n"
    }
   },
   "outputs": [],
   "source": [
    "liste = [1,2,3,\"4\",\"A\",True,\"True\",(1,2),[3,\"aa\"]]"
   ]
  },
  {
   "cell_type": "code",
   "execution_count": 7,
   "id": "50165b04-d75e-4388-9516-4cdb85973bc9",
   "metadata": {
    "pycharm": {
     "name": "#%%\n"
    }
   },
   "outputs": [
    {
     "data": {
      "text/plain": [
       "[1, 2, 3, '4', 'A', True, 'True', (1, 2), [3, 'aa']]"
      ]
     },
     "execution_count": 7,
     "metadata": {},
     "output_type": "execute_result"
    }
   ],
   "source": [
    "liste"
   ]
  },
  {
   "cell_type": "code",
   "execution_count": 8,
   "id": "a8f5a4eb-8725-4b14-818b-3b9a376c4de1",
   "metadata": {
    "pycharm": {
     "name": "#%%\n"
    }
   },
   "outputs": [],
   "source": [
    "liste=[\"a\",\"b\"]+liste"
   ]
  },
  {
   "cell_type": "code",
   "execution_count": 9,
   "id": "aa3f53f6-3772-4d5c-838f-665268e79fc9",
   "metadata": {
    "pycharm": {
     "name": "#%%\n"
    }
   },
   "outputs": [
    {
     "data": {
      "text/plain": [
       "['a', 'b', 1, 2, 3, '4', 'A', True, 'True', (1, 2), [3, 'aa']]"
      ]
     },
     "execution_count": 9,
     "metadata": {},
     "output_type": "execute_result"
    }
   ],
   "source": [
    "liste"
   ]
  },
  {
   "cell_type": "code",
   "execution_count": 10,
   "id": "8341c68f-87a2-44d5-83b6-be68658f2b2f",
   "metadata": {
    "pycharm": {
     "name": "#%%\n"
    }
   },
   "outputs": [],
   "source": [
    "liste.insert(4,\"dd\")"
   ]
  },
  {
   "cell_type": "code",
   "execution_count": 11,
   "id": "fe7db33d-dd0b-49a1-80d9-67faca52cd20",
   "metadata": {
    "pycharm": {
     "name": "#%%\n"
    }
   },
   "outputs": [
    {
     "data": {
      "text/plain": [
       "['a', 'b', 1, 2, 'dd', 3, '4', 'A', True, 'True', (1, 2), [3, 'aa']]"
      ]
     },
     "execution_count": 11,
     "metadata": {},
     "output_type": "execute_result"
    }
   ],
   "source": [
    "liste"
   ]
  },
  {
   "cell_type": "code",
   "execution_count": 12,
   "id": "c33edb95-3d81-4b2c-8335-109bc46f5100",
   "metadata": {
    "pycharm": {
     "name": "#%%\n"
    }
   },
   "outputs": [],
   "source": [
    "liste.append(3)"
   ]
  },
  {
   "cell_type": "code",
   "execution_count": 13,
   "id": "0d0fdc5f-1200-4fde-b6f5-a51277f295be",
   "metadata": {
    "pycharm": {
     "name": "#%%\n"
    }
   },
   "outputs": [
    {
     "data": {
      "text/plain": [
       "['a', 'b', 1, 2, 'dd', 3, '4', 'A', True, 'True', (1, 2), [3, 'aa'], 3]"
      ]
     },
     "execution_count": 13,
     "metadata": {},
     "output_type": "execute_result"
    }
   ],
   "source": [
    "liste"
   ]
  },
  {
   "cell_type": "code",
   "execution_count": 14,
   "id": "41fc56af-e40a-49cc-a018-847475aa3221",
   "metadata": {
    "pycharm": {
     "name": "#%%\n"
    }
   },
   "outputs": [
    {
     "ename": "TypeError",
     "evalue": "'<' not supported between instances of 'int' and 'str'",
     "output_type": "error",
     "traceback": [
      "\u001b[1;31m---------------------------------------------------------------------------\u001b[0m",
      "\u001b[1;31mTypeError\u001b[0m                                 Traceback (most recent call last)",
      "Input \u001b[1;32mIn [14]\u001b[0m, in \u001b[0;36m<cell line: 1>\u001b[1;34m()\u001b[0m\n\u001b[1;32m----> 1\u001b[0m \u001b[43mliste\u001b[49m\u001b[38;5;241;43m.\u001b[39;49m\u001b[43msort\u001b[49m\u001b[43m(\u001b[49m\u001b[43m)\u001b[49m\n",
      "\u001b[1;31mTypeError\u001b[0m: '<' not supported between instances of 'int' and 'str'"
     ]
    }
   ],
   "source": [
    "liste.sort()"
   ]
  },
  {
   "cell_type": "code",
   "execution_count": 62,
   "id": "db3b8927-62d0-421c-8a4c-53360e7fdfdc",
   "metadata": {},
   "outputs": [],
   "source": [
    "List = [25,30,12,1,156,112]"
   ]
  },
  {
   "cell_type": "code",
   "execution_count": 53,
   "id": "193c03ca-f387-4971-807a-f2e4dce1f7e6",
   "metadata": {},
   "outputs": [
    {
     "data": {
      "text/plain": [
       "[25, 30, 12, 1, 156, 112]"
      ]
     },
     "execution_count": 53,
     "metadata": {},
     "output_type": "execute_result"
    }
   ],
   "source": [
    "List"
   ]
  },
  {
   "cell_type": "code",
   "execution_count": 54,
   "id": "b995690b-ab4b-4e3d-83bb-8deb32fa481f",
   "metadata": {},
   "outputs": [],
   "source": [
    "List.sort()"
   ]
  },
  {
   "cell_type": "code",
   "execution_count": 61,
   "id": "859de587-472e-4308-8dd3-6d407a2bfd04",
   "metadata": {},
   "outputs": [
    {
     "data": {
      "text/plain": [
       "[1, 156]"
      ]
     },
     "execution_count": 61,
     "metadata": {},
     "output_type": "execute_result"
    }
   ],
   "source": [
    "List"
   ]
  },
  {
   "cell_type": "code",
   "execution_count": 56,
   "id": "fe3a296c-bdf9-43af-9b28-1feb23e08fbf",
   "metadata": {},
   "outputs": [],
   "source": [
    "del List[2:4]"
   ]
  },
  {
   "cell_type": "code",
   "execution_count": 63,
   "id": "ce30a2d1-9bb2-42cb-8aec-209d33cd578f",
   "metadata": {},
   "outputs": [
    {
     "data": {
      "text/plain": [
       "[25, 30, 12, 1, 156, 112]"
      ]
     },
     "execution_count": 63,
     "metadata": {},
     "output_type": "execute_result"
    }
   ],
   "source": [
    "List"
   ]
  },
  {
   "cell_type": "code",
   "execution_count": 64,
   "id": "d2d4639c-e83e-47fd-866f-cb4feed1a862",
   "metadata": {},
   "outputs": [],
   "source": [
    "del List[1],List[4]"
   ]
  },
  {
   "cell_type": "code",
   "execution_count": 65,
   "id": "9ed6af93-d823-464d-9f18-713b9ce56761",
   "metadata": {},
   "outputs": [
    {
     "data": {
      "text/plain": [
       "[25, 12, 1, 156]"
      ]
     },
     "execution_count": 65,
     "metadata": {},
     "output_type": "execute_result"
    }
   ],
   "source": [
    "List"
   ]
  },
  {
   "cell_type": "code",
   "execution_count": 67,
   "id": "f47fd776-b552-4c9b-b927-1580ab1bd204",
   "metadata": {},
   "outputs": [],
   "source": [
    "List.remove(1)"
   ]
  },
  {
   "cell_type": "code",
   "execution_count": 69,
   "id": "bd003ad6-4d46-4dbb-8060-7e9765654d5c",
   "metadata": {},
   "outputs": [
    {
     "data": {
      "text/plain": [
       "[25, 12, 156]"
      ]
     },
     "execution_count": 69,
     "metadata": {},
     "output_type": "execute_result"
    }
   ],
   "source": [
    "List"
   ]
  },
  {
   "cell_type": "code",
   "execution_count": 70,
   "id": "b916ff7f-d00b-4c17-9d40-ca0fe095d0f1",
   "metadata": {},
   "outputs": [
    {
     "data": {
      "text/plain": [
       "156"
      ]
     },
     "execution_count": 70,
     "metadata": {},
     "output_type": "execute_result"
    }
   ],
   "source": [
    "List.pop()"
   ]
  },
  {
   "cell_type": "code",
   "execution_count": 71,
   "id": "38f8a9cb-c244-4026-b979-ce5e04de35ac",
   "metadata": {},
   "outputs": [
    {
     "data": {
      "text/plain": [
       "[25, 12]"
      ]
     },
     "execution_count": 71,
     "metadata": {},
     "output_type": "execute_result"
    }
   ],
   "source": [
    "List"
   ]
  },
  {
   "cell_type": "code",
   "execution_count": 73,
   "id": "88441baf-58ea-4b80-921f-1ddb2cc71e26",
   "metadata": {},
   "outputs": [],
   "source": [
    "List.clear()"
   ]
  },
  {
   "cell_type": "code",
   "execution_count": 89,
   "id": "47cd61ec-06b8-4f8c-80b3-1d1fb80317d0",
   "metadata": {},
   "outputs": [],
   "source": [
    "List = [25,30,12,1,156,112]"
   ]
  },
  {
   "cell_type": "code",
   "execution_count": 77,
   "id": "cce48a07-266c-4c74-b743-f998f5174a62",
   "metadata": {},
   "outputs": [
    {
     "data": {
      "text/plain": [
       "4"
      ]
     },
     "execution_count": 77,
     "metadata": {},
     "output_type": "execute_result"
    }
   ],
   "source": [
    "List.index(156)"
   ]
  },
  {
   "cell_type": "code",
   "execution_count": 85,
   "id": "007e4c16-2689-418f-811e-61843b7af278",
   "metadata": {},
   "outputs": [],
   "source": [
    "List.sort(reverse=True)"
   ]
  },
  {
   "cell_type": "code",
   "execution_count": 86,
   "id": "a74483c2-9da1-4b5d-8323-3ff7a6fe0016",
   "metadata": {},
   "outputs": [
    {
     "data": {
      "text/plain": [
       "[156, 112, 30, 25, 12, 1]"
      ]
     },
     "execution_count": 86,
     "metadata": {},
     "output_type": "execute_result"
    }
   ],
   "source": [
    "List"
   ]
  },
  {
   "cell_type": "code",
   "execution_count": 87,
   "id": "766a2571-43c3-4512-a13d-b4d298aa62a5",
   "metadata": {},
   "outputs": [],
   "source": [
    "List.reverse()"
   ]
  },
  {
   "cell_type": "code",
   "execution_count": 90,
   "id": "708d90dc-7534-438c-87b2-4c6018f00d66",
   "metadata": {},
   "outputs": [
    {
     "data": {
      "text/plain": [
       "[25, 30, 12, 1, 156, 112]"
      ]
     },
     "execution_count": 90,
     "metadata": {},
     "output_type": "execute_result"
    }
   ],
   "source": [
    "List"
   ]
  },
  {
   "cell_type": "code",
   "execution_count": 93,
   "id": "dae5cce0-b047-47cf-9096-2c40fde74030",
   "metadata": {},
   "outputs": [],
   "source": [
    "List.reverse()"
   ]
  },
  {
   "cell_type": "code",
   "execution_count": 94,
   "id": "9c6fdff6-391e-4b51-a9bb-3a8d4e4a0f58",
   "metadata": {},
   "outputs": [
    {
     "data": {
      "text/plain": [
       "[25, 30, 12, 1, 156, 112]"
      ]
     },
     "execution_count": 94,
     "metadata": {},
     "output_type": "execute_result"
    }
   ],
   "source": [
    "List"
   ]
  },
  {
   "cell_type": "code",
   "execution_count": null,
   "id": "33c16630-9b38-49ed-9ed9-6d014b45884b",
   "metadata": {},
   "outputs": [],
   "source": [
    "del List[1],List[4]"
   ]
  },
  {
   "cell_type": "code",
   "execution_count": 98,
   "id": "b30f1a4c-9c40-4700-b3f3-86c789245ee9",
   "metadata": {},
   "outputs": [],
   "source": [
    "List = [25,30,12,1,156,112,11,12,45,45]"
   ]
  },
  {
   "cell_type": "code",
   "execution_count": 100,
   "id": "5d873b3f-b318-4eec-81f5-d15fbde3ea20",
   "metadata": {},
   "outputs": [],
   "source": [
    "del List[1],List[4]"
   ]
  },
  {
   "cell_type": "code",
   "execution_count": 106,
   "id": "e9dcdd7e-1a33-46e3-856d-5e1bcb227dd2",
   "metadata": {},
   "outputs": [],
   "source": [
    "cic='Çiçek'"
   ]
  },
  {
   "cell_type": "code",
   "execution_count": 107,
   "id": "a23bc5cb-7f4f-4c1b-9658-955eec97723e",
   "metadata": {},
   "outputs": [
    {
     "data": {
      "text/plain": [
       "['ç', 'Ç', 'k', 'i', 'e']"
      ]
     },
     "execution_count": 107,
     "metadata": {},
     "output_type": "execute_result"
    }
   ],
   "source": [
    "sorted(cic,reverse=True)"
   ]
  },
  {
   "cell_type": "code",
   "execution_count": 108,
   "id": "775ca125-c8ba-4c74-a306-2ed0a58ec256",
   "metadata": {},
   "outputs": [],
   "source": [
    "List = [25,30,12,(1,156,112),11,True,[45,45]]"
   ]
  },
  {
   "cell_type": "code",
   "execution_count": 109,
   "id": "28eeb1f0-59db-4264-8f8e-63cec43ff832",
   "metadata": {},
   "outputs": [
    {
     "data": {
      "text/plain": [
       "7"
      ]
     },
     "execution_count": 109,
     "metadata": {},
     "output_type": "execute_result"
    }
   ],
   "source": [
    "len(List)"
   ]
  },
  {
   "cell_type": "code",
   "execution_count": 116,
   "id": "bc210f00-f713-422e-b687-b0869191ca6f",
   "metadata": {},
   "outputs": [
    {
     "name": "stdout",
     "output_type": "stream",
     "text": [
      "<class 'list'>\n"
     ]
    }
   ],
   "source": [
    "print(type(List))"
   ]
  },
  {
   "cell_type": "code",
   "execution_count": 115,
   "id": "e4f362fc-ad3d-4a2f-a7fc-f9dd40a63d4f",
   "metadata": {},
   "outputs": [
    {
     "data": {
      "text/plain": [
       "(1, 156, 112)"
      ]
     },
     "execution_count": 115,
     "metadata": {},
     "output_type": "execute_result"
    }
   ],
   "source": [
    "List[-4]"
   ]
  },
  {
   "cell_type": "code",
   "execution_count": 132,
   "id": "8fb8f78f-26d9-4fa6-8a74-112f2277bb25",
   "metadata": {},
   "outputs": [],
   "source": [
    "t=1,2,3,4,5,4,4,4,7,8,5"
   ]
  },
  {
   "cell_type": "code",
   "execution_count": 120,
   "id": "deb5934f-8251-4780-bece-3ee2386d2f06",
   "metadata": {},
   "outputs": [
    {
     "data": {
      "text/plain": [
       "(1, 2, 3, 4, 5)"
      ]
     },
     "execution_count": 120,
     "metadata": {},
     "output_type": "execute_result"
    }
   ],
   "source": [
    "t"
   ]
  },
  {
   "cell_type": "code",
   "execution_count": 121,
   "id": "3b38ce0d-8dcf-4ce8-bb40-f789720628e3",
   "metadata": {},
   "outputs": [
    {
     "data": {
      "text/plain": [
       "tuple"
      ]
     },
     "execution_count": 121,
     "metadata": {},
     "output_type": "execute_result"
    }
   ],
   "source": [
    "type(t)"
   ]
  },
  {
   "cell_type": "code",
   "execution_count": 122,
   "id": "4342051c-e9e5-4a72-ab48-6dcc06bfd283",
   "metadata": {},
   "outputs": [
    {
     "data": {
      "text/plain": [
       "5"
      ]
     },
     "execution_count": 122,
     "metadata": {},
     "output_type": "execute_result"
    }
   ],
   "source": [
    "t[4]"
   ]
  },
  {
   "cell_type": "code",
   "execution_count": 123,
   "id": "9120e49c-df87-46a1-a4ca-9ba51d520e37",
   "metadata": {},
   "outputs": [
    {
     "ename": "TypeError",
     "evalue": "'tuple' object does not support item assignment",
     "output_type": "error",
     "traceback": [
      "\u001b[1;31m---------------------------------------------------------------------------\u001b[0m",
      "\u001b[1;31mTypeError\u001b[0m                                 Traceback (most recent call last)",
      "Input \u001b[1;32mIn [123]\u001b[0m, in \u001b[0;36m<cell line: 1>\u001b[1;34m()\u001b[0m\n\u001b[1;32m----> 1\u001b[0m t[\u001b[38;5;241m4\u001b[39m]\u001b[38;5;241m=\u001b[39m\u001b[38;5;241m56\u001b[39m\n",
      "\u001b[1;31mTypeError\u001b[0m: 'tuple' object does not support item assignment"
     ]
    }
   ],
   "source": [
    "t[4]=56"
   ]
  },
  {
   "cell_type": "code",
   "execution_count": 124,
   "id": "1aaa5744-57c1-42bb-a006-70d06ac789f6",
   "metadata": {},
   "outputs": [],
   "source": [
    "ta=list(t)"
   ]
  },
  {
   "cell_type": "code",
   "execution_count": 125,
   "id": "e179368c-e640-4384-a610-1d27d4b566de",
   "metadata": {},
   "outputs": [
    {
     "data": {
      "text/plain": [
       "[1, 2, 3, 4, 5]"
      ]
     },
     "execution_count": 125,
     "metadata": {},
     "output_type": "execute_result"
    }
   ],
   "source": [
    "ta"
   ]
  },
  {
   "cell_type": "code",
   "execution_count": 126,
   "id": "a5c52995-fecc-4b96-9229-1a0ea48ec6cb",
   "metadata": {},
   "outputs": [],
   "source": [
    "ta[4]=56"
   ]
  },
  {
   "cell_type": "code",
   "execution_count": 127,
   "id": "6876f1fa-b5b2-45e1-8b19-8ee81b8fb51a",
   "metadata": {},
   "outputs": [
    {
     "data": {
      "text/plain": [
       "[1, 2, 3, 4, 56]"
      ]
     },
     "execution_count": 127,
     "metadata": {},
     "output_type": "execute_result"
    }
   ],
   "source": [
    "ta"
   ]
  },
  {
   "cell_type": "code",
   "execution_count": 128,
   "id": "8fe8919e-d8ba-440e-9cf7-c5dd8365461c",
   "metadata": {},
   "outputs": [],
   "source": [
    "t=tuple(ta)"
   ]
  },
  {
   "cell_type": "code",
   "execution_count": 129,
   "id": "b14a1adf-088e-4054-9df7-1658ae7246df",
   "metadata": {},
   "outputs": [
    {
     "data": {
      "text/plain": [
       "(1, 2, 3, 4, 56)"
      ]
     },
     "execution_count": 129,
     "metadata": {},
     "output_type": "execute_result"
    }
   ],
   "source": [
    "t"
   ]
  },
  {
   "cell_type": "code",
   "execution_count": 133,
   "id": "d226edf8-d87b-468d-a208-6f04fed43bb7",
   "metadata": {},
   "outputs": [
    {
     "data": {
      "text/plain": [
       "4"
      ]
     },
     "execution_count": 133,
     "metadata": {},
     "output_type": "execute_result"
    }
   ],
   "source": [
    "t.count(4)"
   ]
  },
  {
   "cell_type": "code",
   "execution_count": 134,
   "id": "c553f5d1-1f82-4295-bf3a-bfaab5a254e1",
   "metadata": {},
   "outputs": [
    {
     "data": {
      "text/plain": [
       "3"
      ]
     },
     "execution_count": 134,
     "metadata": {},
     "output_type": "execute_result"
    }
   ],
   "source": [
    "t.index(4)"
   ]
  },
  {
   "cell_type": "code",
   "execution_count": 135,
   "id": "84e7f74e-35d7-44d1-90dc-7dbea5e68d12",
   "metadata": {},
   "outputs": [],
   "source": [
    "d={1,2,3,4,4,4,4,5,5,6}"
   ]
  },
  {
   "cell_type": "code",
   "execution_count": 136,
   "id": "c07c873b-1d77-4589-8730-308a0e8f4298",
   "metadata": {},
   "outputs": [
    {
     "data": {
      "text/plain": [
       "{1, 2, 3, 4, 5, 6}"
      ]
     },
     "execution_count": 136,
     "metadata": {},
     "output_type": "execute_result"
    }
   ],
   "source": [
    "d"
   ]
  },
  {
   "cell_type": "code",
   "execution_count": 137,
   "id": "65b779bb-1de9-4f33-9d55-dac997e3de6f",
   "metadata": {},
   "outputs": [
    {
     "data": {
      "text/plain": [
       "set"
      ]
     },
     "execution_count": 137,
     "metadata": {},
     "output_type": "execute_result"
    }
   ],
   "source": [
    "type(d)"
   ]
  },
  {
   "cell_type": "code",
   "execution_count": 138,
   "id": "9a765558-cc7d-43fa-a3cf-f1148209b3fb",
   "metadata": {},
   "outputs": [],
   "source": [
    "liste =[1,2,2,3,1,4,4,5]"
   ]
  },
  {
   "cell_type": "code",
   "execution_count": 139,
   "id": "cf4e8805-0244-4621-94c4-eccbb1dfa4a6",
   "metadata": {},
   "outputs": [
    {
     "data": {
      "text/plain": [
       "[1, 2, 2, 3, 1, 4, 4, 5]"
      ]
     },
     "execution_count": 139,
     "metadata": {},
     "output_type": "execute_result"
    }
   ],
   "source": [
    "liste"
   ]
  },
  {
   "cell_type": "code",
   "execution_count": 140,
   "id": "98d9f95f-a9ca-4cd1-8982-7045ce907aef",
   "metadata": {},
   "outputs": [],
   "source": [
    "kume =set(liste)"
   ]
  },
  {
   "cell_type": "code",
   "execution_count": 141,
   "id": "4d1db92f-d587-4eda-b1f0-698695ec84ff",
   "metadata": {},
   "outputs": [
    {
     "data": {
      "text/plain": [
       "{1, 2, 3, 4, 5}"
      ]
     },
     "execution_count": 141,
     "metadata": {},
     "output_type": "execute_result"
    }
   ],
   "source": [
    "kume"
   ]
  },
  {
   "cell_type": "code",
   "execution_count": 147,
   "id": "09297c48-ff7b-4977-8715-f9c12782ccf7",
   "metadata": {},
   "outputs": [],
   "source": [
    "kume = {\"Ali\",\"Veli\",\"Veli\",\"A\",1,2,2,6,6}"
   ]
  },
  {
   "cell_type": "code",
   "execution_count": 148,
   "id": "288055bc-c330-4349-acde-b083469c77a4",
   "metadata": {},
   "outputs": [
    {
     "data": {
      "text/plain": [
       "{1, 2, 6, 'A', 'Ali', 'Veli'}"
      ]
     },
     "execution_count": 148,
     "metadata": {},
     "output_type": "execute_result"
    }
   ],
   "source": [
    "kume"
   ]
  },
  {
   "cell_type": "code",
   "execution_count": 149,
   "id": "e6710eff-013c-4d25-bdfb-bbb02a3f8bcd",
   "metadata": {},
   "outputs": [],
   "source": [
    "kume.remove(6)"
   ]
  },
  {
   "cell_type": "code",
   "execution_count": 150,
   "id": "a416ce7a-fc50-43ed-aa2c-766f796a345a",
   "metadata": {},
   "outputs": [
    {
     "data": {
      "text/plain": [
       "{1, 2, 'A', 'Ali', 'Veli'}"
      ]
     },
     "execution_count": 150,
     "metadata": {},
     "output_type": "execute_result"
    }
   ],
   "source": [
    "kume"
   ]
  },
  {
   "cell_type": "code",
   "execution_count": 151,
   "id": "10fa2f68-b60e-42df-b275-d43b3d10cdfb",
   "metadata": {},
   "outputs": [],
   "source": [
    "kume.add('?')"
   ]
  },
  {
   "cell_type": "code",
   "execution_count": 152,
   "id": "7f0ad661-6763-453d-96b8-69019a9820a5",
   "metadata": {},
   "outputs": [
    {
     "data": {
      "text/plain": [
       "{1, 2, '?', 'A', 'Ali', 'Veli'}"
      ]
     },
     "execution_count": 152,
     "metadata": {},
     "output_type": "execute_result"
    }
   ],
   "source": [
    "kume"
   ]
  },
  {
   "cell_type": "code",
   "execution_count": 153,
   "id": "37317910-4217-4220-9451-4f38c3e40fe6",
   "metadata": {},
   "outputs": [],
   "source": [
    "kume.add('?')"
   ]
  },
  {
   "cell_type": "code",
   "execution_count": 154,
   "id": "5ceb31a3-a20f-4666-9a69-ac01cfaf817f",
   "metadata": {},
   "outputs": [
    {
     "data": {
      "text/plain": [
       "{1, 2, '?', 'A', 'Ali', 'Veli'}"
      ]
     },
     "execution_count": 154,
     "metadata": {},
     "output_type": "execute_result"
    }
   ],
   "source": [
    "kume"
   ]
  },
  {
   "cell_type": "code",
   "execution_count": 155,
   "id": "815f63ca-f249-40ce-85c6-ab4d8e607d2e",
   "metadata": {},
   "outputs": [],
   "source": [
    "metin = \"Almanya Türkiye Türkiye Almanya\""
   ]
  },
  {
   "cell_type": "code",
   "execution_count": 156,
   "id": "a5f9e589-bd0e-41fb-9a2a-7829760ce182",
   "metadata": {},
   "outputs": [],
   "source": [
    "metin=metin.split()"
   ]
  },
  {
   "cell_type": "code",
   "execution_count": 157,
   "id": "c17a1f80-9980-41db-930a-ed92c24dfe0b",
   "metadata": {},
   "outputs": [
    {
     "data": {
      "text/plain": [
       "['Almanya', 'Türkiye', 'Türkiye', 'Almanya']"
      ]
     },
     "execution_count": 157,
     "metadata": {},
     "output_type": "execute_result"
    }
   ],
   "source": [
    "metin"
   ]
  },
  {
   "cell_type": "code",
   "execution_count": 158,
   "id": "b78215d3-0e99-489c-a7d9-bf51019102c8",
   "metadata": {},
   "outputs": [
    {
     "data": {
      "text/plain": [
       "4"
      ]
     },
     "execution_count": 158,
     "metadata": {},
     "output_type": "execute_result"
    }
   ],
   "source": [
    "len(metin)"
   ]
  },
  {
   "cell_type": "code",
   "execution_count": 159,
   "id": "759b6aae-8b7b-4aaa-9c83-fd8094c284f5",
   "metadata": {},
   "outputs": [
    {
     "data": {
      "text/plain": [
       "2"
      ]
     },
     "execution_count": 159,
     "metadata": {},
     "output_type": "execute_result"
    }
   ],
   "source": [
    "len(set(metin))"
   ]
  },
  {
   "cell_type": "code",
   "execution_count": null,
   "id": "30d50d31-ba67-47bf-9f2f-5d75b4a34b27",
   "metadata": {},
   "outputs": [],
   "source": []
  }
 ],
 "metadata": {
  "kernelspec": {
   "display_name": "Python 3 (ipykernel)",
   "language": "python",
   "name": "python3"
  },
  "language_info": {
   "codemirror_mode": {
    "name": "ipython",
    "version": 3
   },
   "file_extension": ".py",
   "mimetype": "text/x-python",
   "name": "python",
   "nbconvert_exporter": "python",
   "pygments_lexer": "ipython3",
   "version": "3.9.12"
  }
 },
 "nbformat": 4,
 "nbformat_minor": 5
}
